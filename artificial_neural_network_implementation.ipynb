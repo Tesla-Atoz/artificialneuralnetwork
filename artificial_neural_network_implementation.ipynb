{
  "nbformat": 4,
  "nbformat_minor": 0,
  "metadata": {
    "colab": {
      "name": "artificial_neural_network_implementation.ipynb",
      "provenance": [],
      "collapsed_sections": []
    },
    "kernelspec": {
      "name": "python3",
      "display_name": "Python 3"
    }
  },
  "cells": [
    {
      "cell_type": "markdown",
      "metadata": {
        "id": "lP6JLo1tGNBg"
      },
      "source": [
        "# Artificial Neural Network"
      ]
    },
    {
      "cell_type": "markdown",
      "metadata": {
        "id": "gWZyYmS_UE_L"
      },
      "source": [
        "### Importing the libraries"
      ]
    },
    {
      "cell_type": "code",
      "metadata": {
        "id": "AFHT9BzKIxqw"
      },
      "source": [
        "import numpy as np\r\n",
        "import tensorflow as tf\r\n",
        "import pandas as pd"
      ],
      "execution_count": 85,
      "outputs": []
    },
    {
      "cell_type": "code",
      "metadata": {
        "colab": {
          "base_uri": "https://localhost:8080/",
          "height": 36
        },
        "id": "dn0LoGUYI0OK",
        "outputId": "11673450-5f50-4c41-82c6-53dfe795b604"
      },
      "source": [
        "tf.__version__"
      ],
      "execution_count": 86,
      "outputs": [
        {
          "output_type": "execute_result",
          "data": {
            "application/vnd.google.colaboratory.intrinsic+json": {
              "type": "string"
            },
            "text/plain": [
              "'2.4.1'"
            ]
          },
          "metadata": {
            "tags": []
          },
          "execution_count": 86
        }
      ]
    },
    {
      "cell_type": "markdown",
      "metadata": {
        "id": "1E0Q3aoKUCRX"
      },
      "source": [
        "## Part 1 - Data Preprocessing"
      ]
    },
    {
      "cell_type": "markdown",
      "metadata": {
        "id": "cKWAkFVGUU0Z"
      },
      "source": [
        "### Importing the dataset"
      ]
    },
    {
      "cell_type": "code",
      "metadata": {
        "id": "W-zAspybHnN5"
      },
      "source": [
        "dataset = pd.read_csv('Churn_Modelling.csv')\r\n",
        "\r\n",
        "#Extracting all the features (from the dataset, I am removing columns which doesnt affect the target like first 3 in the dataset)\r\n",
        "X = dataset.iloc[:, 3:-1].values\r\n",
        "#Extracting the target variable (Exited) (Binary Variable)\r\n",
        "y = dataset.iloc[:, -1].values"
      ],
      "execution_count": 87,
      "outputs": []
    },
    {
      "cell_type": "code",
      "metadata": {
        "id": "JUuWNW5sH4mB",
        "colab": {
          "base_uri": "https://localhost:8080/"
        },
        "outputId": "78738348-081f-476c-e5b2-f3d7b24ebd5e"
      },
      "source": [
        "#taking a look at features from the dataset\r\n",
        "print(X)"
      ],
      "execution_count": 88,
      "outputs": [
        {
          "output_type": "stream",
          "text": [
            "[[619 'France' 'Female' ... 1 1 101348.88]\n",
            " [608 'Spain' 'Female' ... 0 1 112542.58]\n",
            " [502 'France' 'Female' ... 1 0 113931.57]\n",
            " ...\n",
            " [709 'France' 'Female' ... 0 1 42085.58]\n",
            " [772 'Germany' 'Male' ... 1 0 92888.52]\n",
            " [792 'France' 'Female' ... 1 0 38190.78]]\n"
          ],
          "name": "stdout"
        }
      ]
    },
    {
      "cell_type": "code",
      "metadata": {
        "colab": {
          "base_uri": "https://localhost:8080/"
        },
        "id": "AaxRmGAbKY3Q",
        "outputId": "25f046ff-352e-4bc2-9045-3f7eac4d3c72"
      },
      "source": [
        "#taking a look at target variable\r\n",
        "print(y)"
      ],
      "execution_count": 89,
      "outputs": [
        {
          "output_type": "stream",
          "text": [
            "[1 0 1 ... 1 1 0]\n"
          ],
          "name": "stdout"
        }
      ]
    },
    {
      "cell_type": "markdown",
      "metadata": {
        "id": "N6bQ0UgSU-NJ"
      },
      "source": [
        "### Encoding categorical data"
      ]
    },
    {
      "cell_type": "markdown",
      "metadata": {
        "id": "le5MJreAbW52"
      },
      "source": [
        "Label Encoding the \"Gender\" column"
      ]
    },
    {
      "cell_type": "code",
      "metadata": {
        "id": "tlgaGFzuKrIS"
      },
      "source": [
        "from sklearn.preprocessing import LabelEncoder\r\n",
        "# label encoding the gender column as it is a categorical variable.\r\n",
        "le = LabelEncoder()\r\n",
        "X[:,2] = le.fit_transform(X[:,2])"
      ],
      "execution_count": 90,
      "outputs": []
    },
    {
      "cell_type": "code",
      "metadata": {
        "colab": {
          "base_uri": "https://localhost:8080/"
        },
        "id": "TayxRda-LLtp",
        "outputId": "e2428c52-a697-42cd-bbf5-a86585e93249"
      },
      "source": [
        "print(X)"
      ],
      "execution_count": 91,
      "outputs": [
        {
          "output_type": "stream",
          "text": [
            "[[619 'France' 0 ... 1 1 101348.88]\n",
            " [608 'Spain' 0 ... 0 1 112542.58]\n",
            " [502 'France' 0 ... 1 0 113931.57]\n",
            " ...\n",
            " [709 'France' 0 ... 0 1 42085.58]\n",
            " [772 'Germany' 1 ... 1 0 92888.52]\n",
            " [792 'France' 0 ... 1 0 38190.78]]\n"
          ],
          "name": "stdout"
        }
      ]
    },
    {
      "cell_type": "markdown",
      "metadata": {
        "id": "CUxGZezpbMcb"
      },
      "source": [
        "One Hot Encoding the \"Geography\" column"
      ]
    },
    {
      "cell_type": "code",
      "metadata": {
        "id": "jwBKLuLuLXmI"
      },
      "source": [
        "from sklearn.compose import ColumnTransformer\r\n",
        "from sklearn.preprocessing import OneHotEncoder\r\n",
        "\r\n",
        "#One-Hot encoding the Geography columns as it is a categorical variable.\r\n",
        "#can do other encoding but for a practice, I did label encoding to 'Gender' column and One-hot to 'Geography' column\r\n",
        "ct = ColumnTransformer(transformers=[('encoder', OneHotEncoder(), [1])], remainder='passthrough')\r\n",
        "\r\n",
        "#fit and transforming the features\r\n",
        "X = np.array(ct.fit_transform(X))"
      ],
      "execution_count": 92,
      "outputs": []
    },
    {
      "cell_type": "code",
      "metadata": {
        "colab": {
          "base_uri": "https://localhost:8080/"
        },
        "id": "ZlEZIfcnL21g",
        "outputId": "2bf84af7-30a7-4e34-8419-9e1791a73035"
      },
      "source": [
        "print(X)"
      ],
      "execution_count": 93,
      "outputs": [
        {
          "output_type": "stream",
          "text": [
            "[[1.0 0.0 0.0 ... 1 1 101348.88]\n",
            " [0.0 0.0 1.0 ... 0 1 112542.58]\n",
            " [1.0 0.0 0.0 ... 1 0 113931.57]\n",
            " ...\n",
            " [1.0 0.0 0.0 ... 0 1 42085.58]\n",
            " [0.0 1.0 0.0 ... 1 0 92888.52]\n",
            " [1.0 0.0 0.0 ... 1 0 38190.78]]\n"
          ],
          "name": "stdout"
        }
      ]
    },
    {
      "cell_type": "markdown",
      "metadata": {
        "id": "vHol938cW8zd"
      },
      "source": [
        "### Splitting the dataset into the Training set and Test set"
      ]
    },
    {
      "cell_type": "code",
      "metadata": {
        "id": "WYQPO_6hMlod"
      },
      "source": [
        "from sklearn.model_selection import train_test_split\r\n",
        "#Splitting the dataset into train and test with  4:1\r\n",
        "X_train, X_test, y_train, y_test = train_test_split(X, y, test_size = 0.2, random_state = 0)"
      ],
      "execution_count": 94,
      "outputs": []
    },
    {
      "cell_type": "markdown",
      "metadata": {
        "id": "RE_FcHyfV3TQ"
      },
      "source": [
        "### Feature Scaling"
      ]
    },
    {
      "cell_type": "code",
      "metadata": {
        "id": "AxjSUXFQqo-3"
      },
      "source": [
        "# In deep learning, feature scaling is necessary and crucial. \n",
        "# I used standard scaling, we can use other scalers also like MinMaxScaler.\n",
        "from sklearn.preprocessing import StandardScaler\n",
        "sc = StandardScaler()\n",
        "X_train = sc.fit_transform(X_train)\n",
        "X_test = sc.transform(X_test)"
      ],
      "execution_count": 95,
      "outputs": []
    },
    {
      "cell_type": "markdown",
      "metadata": {
        "id": "-zfEzkRVXIwF"
      },
      "source": [
        "## Part 2 - Building the ANN"
      ]
    },
    {
      "cell_type": "markdown",
      "metadata": {
        "id": "KvdeScabXtlB"
      },
      "source": [
        "### Initializing the ANN"
      ]
    },
    {
      "cell_type": "code",
      "metadata": {
        "id": "Zs-uq2INR4ak"
      },
      "source": [
        "ann =tf.keras.models.Sequential()"
      ],
      "execution_count": 96,
      "outputs": []
    },
    {
      "cell_type": "markdown",
      "metadata": {
        "id": "rP6urV6SX7kS"
      },
      "source": [
        "### Adding the input layer and the first hidden layer"
      ]
    },
    {
      "cell_type": "markdown",
      "metadata": {
        "id": "r-WLjGOCifQR"
      },
      "source": [
        "We can add any number of layers with any number of neurons or nodes. There is no fixed-procedure to get the values of them. It is the job of practitioner to experiment and get the best model. \r\n",
        "\r\n",
        "**Note:** Keras is included in Tensorflow 2.0 and higher versions.\r\n",
        "\r\n",
        "**PS** : *Neurons individually cannot do much but layers of them combined together possess super-power. Just like an ant cannot do much but colony of them can build an anthill.*"
      ]
    },
    {
      "cell_type": "code",
      "metadata": {
        "id": "NmDWnb7HR8kI"
      },
      "source": [
        " # the first hidden layer with 6 neurons or nodes with rectifier activation function. 'relu' is the code for it.\r\n",
        " ann.add(tf.keras.layers.Dense(units=6,activation='relu'))\r\n"
      ],
      "execution_count": 97,
      "outputs": []
    },
    {
      "cell_type": "markdown",
      "metadata": {
        "id": "BELWAc_8YJze"
      },
      "source": [
        "### Adding the second hidden layer"
      ]
    },
    {
      "cell_type": "code",
      "metadata": {
        "id": "_eP43IW_UBeg"
      },
      "source": [
        "# adding another hidden layer with 6 neurons or nodes with rectifier activation function.\r\n",
        "ann.add(tf.keras.layers.Dense(units=6,activation='relu'))"
      ],
      "execution_count": 98,
      "outputs": []
    },
    {
      "cell_type": "markdown",
      "metadata": {
        "id": "OyNEe6RXYcU4"
      },
      "source": [
        "### Adding the output layer"
      ]
    },
    {
      "cell_type": "code",
      "metadata": {
        "id": "Q7ktIvPcUaxR"
      },
      "source": [
        " # finally, adding the output layer with only one node as the target is binary which mean only one value is predicted. \r\n",
        " # also , the activation function is sigmoid coz its a binary classification. \r\n",
        " ann.add(tf.keras.layers.Dense(units=1,activation='sigmoid'))"
      ],
      "execution_count": 99,
      "outputs": []
    },
    {
      "cell_type": "markdown",
      "metadata": {
        "id": "JT4u2S1_Y4WG"
      },
      "source": [
        "## Part 3 - Training the ANN"
      ]
    },
    {
      "cell_type": "markdown",
      "metadata": {
        "id": "8GWlJChhY_ZI"
      },
      "source": [
        "### Compiling the ANN"
      ]
    },
    {
      "cell_type": "code",
      "metadata": {
        "id": "tU4eZNvLVdKr"
      },
      "source": [
        "#compiling the neural network means configuring it with some default settings.(those settings are provided as kwargs as below)\r\n",
        "#To get optimal weights , optimisation is necessary. I used 'adam' optimizer here.\r\n",
        "# as its a binary classification, loss function should be 'binary_crossentropy'\r\n",
        "\r\n",
        "ann.compile(optimizer = 'adam', loss='binary_crossentropy', metrics=['accuracy'])"
      ],
      "execution_count": 100,
      "outputs": []
    },
    {
      "cell_type": "markdown",
      "metadata": {
        "id": "dD4DQOqOkj8J"
      },
      "source": [
        "**Note** : If its non-binary classification, then loss function would be '*categorical_crossentropy*' and activation function would be '*softmax*'."
      ]
    },
    {
      "cell_type": "markdown",
      "metadata": {
        "id": "0QR_G5u7ZLSM"
      },
      "source": [
        "### Training the ANN on the Training set"
      ]
    },
    {
      "cell_type": "code",
      "metadata": {
        "colab": {
          "base_uri": "https://localhost:8080/"
        },
        "id": "FMbfO8pZVcGg",
        "outputId": "755aa1c7-4a56-46d1-9f0e-6e5e02b743c7"
      },
      "source": [
        "#this part is favourite. fitting the model with training set. \r\n",
        "# i did batch learning with batch_size =32, and epochs =100\r\n",
        "\r\n",
        "#we can play with those kwargs.\r\n",
        "\r\n",
        "ann.fit(X_train,y_train,batch_size= 32,epochs=54)"
      ],
      "execution_count": 101,
      "outputs": [
        {
          "output_type": "stream",
          "text": [
            "Epoch 1/54\n",
            "250/250 [==============================] - 1s 905us/step - loss: 0.6484 - accuracy: 0.6186\n",
            "Epoch 2/54\n",
            "250/250 [==============================] - 0s 980us/step - loss: 0.4953 - accuracy: 0.7891\n",
            "Epoch 3/54\n",
            "250/250 [==============================] - 0s 943us/step - loss: 0.4545 - accuracy: 0.8017\n",
            "Epoch 4/54\n",
            "250/250 [==============================] - 0s 987us/step - loss: 0.4435 - accuracy: 0.8049\n",
            "Epoch 5/54\n",
            "250/250 [==============================] - 0s 1ms/step - loss: 0.4276 - accuracy: 0.8155\n",
            "Epoch 6/54\n",
            "250/250 [==============================] - 0s 1ms/step - loss: 0.4313 - accuracy: 0.8147\n",
            "Epoch 7/54\n",
            "250/250 [==============================] - 0s 999us/step - loss: 0.4261 - accuracy: 0.8144\n",
            "Epoch 8/54\n",
            "250/250 [==============================] - 0s 959us/step - loss: 0.4155 - accuracy: 0.8133\n",
            "Epoch 9/54\n",
            "250/250 [==============================] - 0s 938us/step - loss: 0.4070 - accuracy: 0.8218\n",
            "Epoch 10/54\n",
            "250/250 [==============================] - 0s 1ms/step - loss: 0.4107 - accuracy: 0.8158\n",
            "Epoch 11/54\n",
            "250/250 [==============================] - 0s 948us/step - loss: 0.4030 - accuracy: 0.8219\n",
            "Epoch 12/54\n",
            "250/250 [==============================] - 0s 987us/step - loss: 0.4100 - accuracy: 0.8184\n",
            "Epoch 13/54\n",
            "250/250 [==============================] - 0s 988us/step - loss: 0.3965 - accuracy: 0.8222\n",
            "Epoch 14/54\n",
            "250/250 [==============================] - 0s 1ms/step - loss: 0.3828 - accuracy: 0.8277\n",
            "Epoch 15/54\n",
            "250/250 [==============================] - 0s 942us/step - loss: 0.3869 - accuracy: 0.8234\n",
            "Epoch 16/54\n",
            "250/250 [==============================] - 0s 931us/step - loss: 0.3854 - accuracy: 0.8266\n",
            "Epoch 17/54\n",
            "250/250 [==============================] - 0s 947us/step - loss: 0.3798 - accuracy: 0.8220\n",
            "Epoch 18/54\n",
            "250/250 [==============================] - 0s 960us/step - loss: 0.3672 - accuracy: 0.8304\n",
            "Epoch 19/54\n",
            "250/250 [==============================] - 0s 970us/step - loss: 0.3698 - accuracy: 0.8383\n",
            "Epoch 20/54\n",
            "250/250 [==============================] - 0s 987us/step - loss: 0.3670 - accuracy: 0.8531\n",
            "Epoch 21/54\n",
            "250/250 [==============================] - 0s 955us/step - loss: 0.3654 - accuracy: 0.8463\n",
            "Epoch 22/54\n",
            "250/250 [==============================] - 0s 985us/step - loss: 0.3586 - accuracy: 0.8586\n",
            "Epoch 23/54\n",
            "250/250 [==============================] - 0s 940us/step - loss: 0.3634 - accuracy: 0.8559\n",
            "Epoch 24/54\n",
            "250/250 [==============================] - 0s 968us/step - loss: 0.3719 - accuracy: 0.8486\n",
            "Epoch 25/54\n",
            "250/250 [==============================] - 0s 974us/step - loss: 0.3645 - accuracy: 0.8534\n",
            "Epoch 26/54\n",
            "250/250 [==============================] - 0s 985us/step - loss: 0.3471 - accuracy: 0.8618\n",
            "Epoch 27/54\n",
            "250/250 [==============================] - 0s 955us/step - loss: 0.3611 - accuracy: 0.8513\n",
            "Epoch 28/54\n",
            "250/250 [==============================] - 0s 917us/step - loss: 0.3653 - accuracy: 0.8526\n",
            "Epoch 29/54\n",
            "250/250 [==============================] - 0s 957us/step - loss: 0.3450 - accuracy: 0.8620\n",
            "Epoch 30/54\n",
            "250/250 [==============================] - 0s 950us/step - loss: 0.3549 - accuracy: 0.8568\n",
            "Epoch 31/54\n",
            "250/250 [==============================] - 0s 997us/step - loss: 0.3579 - accuracy: 0.8559\n",
            "Epoch 32/54\n",
            "250/250 [==============================] - 0s 941us/step - loss: 0.3498 - accuracy: 0.8633\n",
            "Epoch 33/54\n",
            "250/250 [==============================] - 0s 951us/step - loss: 0.3507 - accuracy: 0.8625\n",
            "Epoch 34/54\n",
            "250/250 [==============================] - 0s 1ms/step - loss: 0.3467 - accuracy: 0.8662\n",
            "Epoch 35/54\n",
            "250/250 [==============================] - 0s 937us/step - loss: 0.3475 - accuracy: 0.8621\n",
            "Epoch 36/54\n",
            "250/250 [==============================] - 0s 920us/step - loss: 0.3430 - accuracy: 0.8672\n",
            "Epoch 37/54\n",
            "250/250 [==============================] - 0s 1ms/step - loss: 0.3424 - accuracy: 0.8633\n",
            "Epoch 38/54\n",
            "250/250 [==============================] - 0s 926us/step - loss: 0.3362 - accuracy: 0.8679\n",
            "Epoch 39/54\n",
            "250/250 [==============================] - 0s 983us/step - loss: 0.3639 - accuracy: 0.8538\n",
            "Epoch 40/54\n",
            "250/250 [==============================] - 0s 950us/step - loss: 0.3446 - accuracy: 0.8662\n",
            "Epoch 41/54\n",
            "250/250 [==============================] - 0s 1ms/step - loss: 0.3449 - accuracy: 0.8591\n",
            "Epoch 42/54\n",
            "250/250 [==============================] - 0s 943us/step - loss: 0.3419 - accuracy: 0.8654\n",
            "Epoch 43/54\n",
            "250/250 [==============================] - 0s 1ms/step - loss: 0.3392 - accuracy: 0.8657\n",
            "Epoch 44/54\n",
            "250/250 [==============================] - 0s 998us/step - loss: 0.3452 - accuracy: 0.8628\n",
            "Epoch 45/54\n",
            "250/250 [==============================] - 0s 939us/step - loss: 0.3294 - accuracy: 0.8675\n",
            "Epoch 46/54\n",
            "250/250 [==============================] - 0s 936us/step - loss: 0.3337 - accuracy: 0.8647\n",
            "Epoch 47/54\n",
            "250/250 [==============================] - 0s 979us/step - loss: 0.3506 - accuracy: 0.8592\n",
            "Epoch 48/54\n",
            "250/250 [==============================] - 0s 975us/step - loss: 0.3462 - accuracy: 0.8557\n",
            "Epoch 49/54\n",
            "250/250 [==============================] - 0s 1ms/step - loss: 0.3352 - accuracy: 0.8607\n",
            "Epoch 50/54\n",
            "250/250 [==============================] - 0s 961us/step - loss: 0.3353 - accuracy: 0.8716\n",
            "Epoch 51/54\n",
            "250/250 [==============================] - 0s 999us/step - loss: 0.3412 - accuracy: 0.8613\n",
            "Epoch 52/54\n",
            "250/250 [==============================] - 0s 977us/step - loss: 0.3490 - accuracy: 0.8553\n",
            "Epoch 53/54\n",
            "250/250 [==============================] - 0s 958us/step - loss: 0.3354 - accuracy: 0.8700\n",
            "Epoch 54/54\n",
            "250/250 [==============================] - 0s 959us/step - loss: 0.3456 - accuracy: 0.8614\n"
          ],
          "name": "stdout"
        },
        {
          "output_type": "execute_result",
          "data": {
            "text/plain": [
              "<tensorflow.python.keras.callbacks.History at 0x7f5ce3d5a7f0>"
            ]
          },
          "metadata": {
            "tags": []
          },
          "execution_count": 101
        }
      ]
    },
    {
      "cell_type": "markdown",
      "metadata": {
        "id": "tJj5k2MxZga3"
      },
      "source": [
        "## Part 4 - Making the predictions and evaluating the model"
      ]
    },
    {
      "cell_type": "markdown",
      "metadata": {
        "id": "84QFoqGYeXHL"
      },
      "source": [
        "### Predicting the result of a single observation"
      ]
    },
    {
      "cell_type": "markdown",
      "metadata": {
        "id": "CGRo3eacgDdC"
      },
      "source": [
        "**Just for practice**\n",
        "\n",
        "Use the ANN model to predict if the customer with the following informations will leave the bank: \n",
        "\n",
        "Geography: France\n",
        "\n",
        "Credit Score: 600\n",
        "\n",
        "Gender: Male\n",
        "\n",
        "Age: 40 years old\n",
        "\n",
        "Tenure: 3 years\n",
        "\n",
        "Balance: \\$ 60000\n",
        "\n",
        "Number of Products: 2\n",
        "\n",
        "Does this customer have a credit card? Yes\n",
        "\n",
        "Is this customer an Active Member: Yes\n",
        "\n",
        "Estimated Salary: \\$ 50000\n",
        "\n",
        "So, should we say goodbye to that customer?"
      ]
    },
    {
      "cell_type": "markdown",
      "metadata": {
        "id": "ZhU1LTgPg-kH"
      },
      "source": [
        "**Solution**"
      ]
    },
    {
      "cell_type": "code",
      "metadata": {
        "colab": {
          "base_uri": "https://localhost:8080/"
        },
        "id": "0j_63E0wYjOg",
        "outputId": "ab8de90b-554c-4a22-c78f-8211e86868e6"
      },
      "source": [
        "print(ann.predict(\r\n",
        "   sc.transform([[1,0,0,600,1,40,3,60000,2,1,1,50000]])\r\n",
        ")> 0.5)\r\n",
        "\r\n",
        "#to get boolean if we cross the 50% probability"
      ],
      "execution_count": 102,
      "outputs": [
        {
          "output_type": "stream",
          "text": [
            "[[False]]\n"
          ],
          "name": "stdout"
        }
      ]
    },
    {
      "cell_type": "markdown",
      "metadata": {
        "id": "LUVXC9OuloD5"
      },
      "source": [
        "Note : As our model is fit with scaled training data, we need to scale our test observation also."
      ]
    },
    {
      "cell_type": "markdown",
      "metadata": {
        "id": "wGjx94g2n7OV"
      },
      "source": [
        "Therefore, our ANN model predicts that this customer stays in the bank!\n",
        "\n",
        "**Important note 1:** Notice that the values of the features were all input in a double pair of square brackets. That's because the \"predict\" method always expects a 2D array as the format of its inputs. And putting our values into a double pair of square brackets makes the input exactly a 2D array.\n",
        "\n",
        "**Important note 2:** Notice also that the \"France\" country was not input as a string in the last column but as \"1, 0, 0\" in the first three columns. That's because of course the predict method expects the one-hot-encoded values of the state, and as we see in the first row of the matrix of features X, \"France\" was encoded as \"1, 0, 0\". And be careful to include these values in the first three columns, because the dummy variables are always created in the first columns."
      ]
    },
    {
      "cell_type": "markdown",
      "metadata": {
        "id": "u7yx47jPZt11"
      },
      "source": [
        "### Predicting the Test set results"
      ]
    },
    {
      "cell_type": "code",
      "metadata": {
        "colab": {
          "base_uri": "https://localhost:8080/"
        },
        "id": "8nL3eTmMazpd",
        "outputId": "ece182f6-3342-409a-fdde-3a1fec97b14d"
      },
      "source": [
        "y_pred = ann.predict(X_test)\r\n",
        "# Just setting a threshold of 50 % upon predictions\r\n",
        "y_pred= (y_pred > 0.5)\r\n",
        "print(\r\n",
        "    np.concatenate((y_pred.reshape(len(y_pred),1),\r\n",
        "                    y_test.reshape(len(y_test),1)),1)\r\n",
        ")"
      ],
      "execution_count": 105,
      "outputs": [
        {
          "output_type": "stream",
          "text": [
            "[[0 0]\n",
            " [0 1]\n",
            " [0 0]\n",
            " ...\n",
            " [0 0]\n",
            " [0 0]\n",
            " [0 0]]\n"
          ],
          "name": "stdout"
        }
      ]
    },
    {
      "cell_type": "markdown",
      "metadata": {
        "id": "o0oyfLWoaEGw"
      },
      "source": [
        "### Making the Confusion Matrix"
      ]
    },
    {
      "cell_type": "code",
      "metadata": {
        "colab": {
          "base_uri": "https://localhost:8080/"
        },
        "id": "3xzraPsNcEBh",
        "outputId": "53c2ce2e-94bb-4333-c01d-7a8219ae8686"
      },
      "source": [
        "#Confusion Matrx gives an overview of model's predictions.\r\n",
        "# tt, tf\r\n",
        "# ft, ff\r\n",
        "# t -true, f-false\r\n",
        "\r\n",
        "from sklearn.metrics import confusion_matrix,accuracy_score\r\n",
        "cm = confusion_matrix(y_test,y_pred)\r\n",
        "\r\n",
        "print(cm)\r\n",
        "\r\n",
        "accuracy = accuracy_score(y_test,y_pred)\r\n",
        "print('accuracy : ',accuracy)"
      ],
      "execution_count": 107,
      "outputs": [
        {
          "output_type": "stream",
          "text": [
            "[[1545   50]\n",
            " [ 218  187]]\n",
            "accuracy :  0.866\n"
          ],
          "name": "stdout"
        }
      ]
    }
  ]
}